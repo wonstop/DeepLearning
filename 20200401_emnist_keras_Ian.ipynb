{
  "nbformat": 4,
  "nbformat_minor": 0,
  "metadata": {
    "colab": {
      "name": "20200401_emnist_keras_Ian.ipynb",
      "provenance": [],
      "collapsed_sections": [],
      "toc_visible": true,
      "include_colab_link": true
    },
    "kernelspec": {
      "name": "python3",
      "display_name": "Python 3"
    },
    "accelerator": "TPU"
  },
  "cells": [
    {
      "cell_type": "markdown",
      "metadata": {
        "id": "view-in-github",
        "colab_type": "text"
      },
      "source": [
        "<a href=\"https://colab.research.google.com/github/wonstop/DeepLearning/blob/master/20200401_emnist_keras_Ian.ipynb\" target=\"_parent\"><img src=\"https://colab.research.google.com/assets/colab-badge.svg\" alt=\"Open In Colab\"/></a>"
      ]
    },
    {
      "cell_type": "code",
      "metadata": {
        "id": "oe7jTbsRDuul",
        "colab": {
          "base_uri": "https://localhost:8080/",
          "height": 559
        },
        "outputId": "841c5475-c9a4-4a18-bf9f-2f607ce0bab2"
      },
      "source": [
        "import keras\n",
        "from keras.datasets import mnist\n",
        "from mnist import MNIST\n",
        "from keras.models import Sequential\n",
        "from keras.layers import Dense\n",
        "from keras.optimizers import RMSprop, Adam\n",
        "from keras.models import load_model\n",
        "from matplotlib.pyplot import imshow\n",
        "from google.colab import files\n",
        "from sklearn.model_selection import train_test_split\n",
        "from tensorboardcolab import TensorBoardColab, TensorBoardColabCallback\n",
        "\n",
        "tbc=TensorBoardColab()\n",
        "\n",
        "batch_size = 128\n",
        "num_classes = 62\n",
        "epochs = 10"
      ],
      "execution_count": null,
      "outputs": [
        {
          "output_type": "stream",
          "text": [
            "Using TensorFlow backend.\n",
            "/usr/local/lib/python3.6/dist-packages/tensorflow/python/framework/dtypes.py:516: FutureWarning: Passing (type, 1) or '1type' as a synonym of type is deprecated; in a future version of numpy, it will be understood as (type, (1,)) / '(1,)type'.\n",
            "  _np_qint8 = np.dtype([(\"qint8\", np.int8, 1)])\n",
            "/usr/local/lib/python3.6/dist-packages/tensorflow/python/framework/dtypes.py:517: FutureWarning: Passing (type, 1) or '1type' as a synonym of type is deprecated; in a future version of numpy, it will be understood as (type, (1,)) / '(1,)type'.\n",
            "  _np_quint8 = np.dtype([(\"quint8\", np.uint8, 1)])\n",
            "/usr/local/lib/python3.6/dist-packages/tensorflow/python/framework/dtypes.py:518: FutureWarning: Passing (type, 1) or '1type' as a synonym of type is deprecated; in a future version of numpy, it will be understood as (type, (1,)) / '(1,)type'.\n",
            "  _np_qint16 = np.dtype([(\"qint16\", np.int16, 1)])\n",
            "/usr/local/lib/python3.6/dist-packages/tensorflow/python/framework/dtypes.py:519: FutureWarning: Passing (type, 1) or '1type' as a synonym of type is deprecated; in a future version of numpy, it will be understood as (type, (1,)) / '(1,)type'.\n",
            "  _np_quint16 = np.dtype([(\"quint16\", np.uint16, 1)])\n",
            "/usr/local/lib/python3.6/dist-packages/tensorflow/python/framework/dtypes.py:520: FutureWarning: Passing (type, 1) or '1type' as a synonym of type is deprecated; in a future version of numpy, it will be understood as (type, (1,)) / '(1,)type'.\n",
            "  _np_qint32 = np.dtype([(\"qint32\", np.int32, 1)])\n",
            "/usr/local/lib/python3.6/dist-packages/tensorflow/python/framework/dtypes.py:525: FutureWarning: Passing (type, 1) or '1type' as a synonym of type is deprecated; in a future version of numpy, it will be understood as (type, (1,)) / '(1,)type'.\n",
            "  np_resource = np.dtype([(\"resource\", np.ubyte, 1)])\n",
            "/usr/local/lib/python3.6/dist-packages/tensorboard/compat/tensorflow_stub/dtypes.py:541: FutureWarning: Passing (type, 1) or '1type' as a synonym of type is deprecated; in a future version of numpy, it will be understood as (type, (1,)) / '(1,)type'.\n",
            "  _np_qint8 = np.dtype([(\"qint8\", np.int8, 1)])\n",
            "/usr/local/lib/python3.6/dist-packages/tensorboard/compat/tensorflow_stub/dtypes.py:542: FutureWarning: Passing (type, 1) or '1type' as a synonym of type is deprecated; in a future version of numpy, it will be understood as (type, (1,)) / '(1,)type'.\n",
            "  _np_quint8 = np.dtype([(\"quint8\", np.uint8, 1)])\n",
            "/usr/local/lib/python3.6/dist-packages/tensorboard/compat/tensorflow_stub/dtypes.py:543: FutureWarning: Passing (type, 1) or '1type' as a synonym of type is deprecated; in a future version of numpy, it will be understood as (type, (1,)) / '(1,)type'.\n",
            "  _np_qint16 = np.dtype([(\"qint16\", np.int16, 1)])\n",
            "/usr/local/lib/python3.6/dist-packages/tensorboard/compat/tensorflow_stub/dtypes.py:544: FutureWarning: Passing (type, 1) or '1type' as a synonym of type is deprecated; in a future version of numpy, it will be understood as (type, (1,)) / '(1,)type'.\n",
            "  _np_quint16 = np.dtype([(\"quint16\", np.uint16, 1)])\n",
            "/usr/local/lib/python3.6/dist-packages/tensorboard/compat/tensorflow_stub/dtypes.py:545: FutureWarning: Passing (type, 1) or '1type' as a synonym of type is deprecated; in a future version of numpy, it will be understood as (type, (1,)) / '(1,)type'.\n",
            "  _np_qint32 = np.dtype([(\"qint32\", np.int32, 1)])\n",
            "/usr/local/lib/python3.6/dist-packages/tensorboard/compat/tensorflow_stub/dtypes.py:550: FutureWarning: Passing (type, 1) or '1type' as a synonym of type is deprecated; in a future version of numpy, it will be understood as (type, (1,)) / '(1,)type'.\n",
            "  np_resource = np.dtype([(\"resource\", np.ubyte, 1)])\n"
          ],
          "name": "stderr"
        },
        {
          "output_type": "display_data",
          "data": {
            "text/html": [
              "<p style=\"color: red;\">\n",
              "The default version of TensorFlow in Colab will switch to TensorFlow 2.x on the 27th of March, 2020.<br>\n",
              "We recommend you <a href=\"https://www.tensorflow.org/guide/migrate\" target=\"_blank\">upgrade</a> now\n",
              "or ensure your notebook will continue to use TensorFlow 1.x via the <code>%tensorflow_version 1.x</code> magic:\n",
              "<a href=\"https://colab.research.google.com/notebooks/tensorflow_version.ipynb\" target=\"_blank\">more info</a>.</p>\n"
            ],
            "text/plain": [
              "<IPython.core.display.HTML object>"
            ]
          },
          "metadata": {
            "tags": []
          }
        },
        {
          "output_type": "stream",
          "text": [
            "Wait for 8 seconds...\n",
            "TensorBoard link:\n",
            "http://d091d7c4.ngrok.io\n"
          ],
          "name": "stdout"
        }
      ]
    },
    {
      "cell_type": "code",
      "metadata": {
        "id": "PjCBuJQ6ZVvl"
      },
      "source": [
        "# pip install python-mnist  ##handle no module MNIST  "
      ],
      "execution_count": null,
      "outputs": []
    },
    {
      "cell_type": "code",
      "metadata": {
        "id": "9Ekj998o7tbo"
      },
      "source": [
        "# pip install tensorflow==1.14"
      ],
      "execution_count": null,
      "outputs": []
    },
    {
      "cell_type": "code",
      "metadata": {
        "id": "pYtKCeqFQt4B"
      },
      "source": [
        "import numpy as np\n",
        "from matplotlib import pyplot as plt\n",
        "from tensorflow.python.keras.layers import Dense\n",
        "from tensorflow.python.keras import Sequential\n",
        "from tensorflow.python.compiler.tensorrt import trt_convert as trt\n",
        "\n",
        "\n"
      ],
      "execution_count": null,
      "outputs": []
    },
    {
      "cell_type": "code",
      "metadata": {
        "id": "pa4G48FxF6eK"
      },
      "source": [
        "# the data, split between train and test sets\n",
        " # Read all EMNIST test and train data\n",
        "mndata = MNIST('/content/drive/My Drive/200g/gzip/')\n",
        "\n",
        "x_train, y_train = mndata.load('/content/drive/My Drive/200g/gzip/emnist-byclass-train-images-idx3-ubyte', \n",
        "                               '/content/drive/My Drive/200g/gzip/emnist-byclass-train-labels-idx1-ubyte')\n",
        "x_test, y_test = mndata.load('/content/drive/My Drive/200g/gzip/emnist-byclass-test-images-idx3-ubyte', \n",
        "                             '/content/drive/My Drive/200g/gzip/emnist-byclass-test-labels-idx1-ubyte')\n",
        "\n",
        "#(x_train, y_train), (x_test, y_test) = mnist.load_data()\n",
        "#print(x_train.shape, y_train.shape, x_test.shape, y_test.shape)\n"
      ],
      "execution_count": null,
      "outputs": []
    },
    {
      "cell_type": "code",
      "metadata": {
        "id": "buQxPlusQEnL"
      },
      "source": [
        "    # Read mapping of the labels and convert ASCII values to chars\n",
        "    mapping = []\n",
        "\n",
        "    with open('/content/drive/My Drive/200g/gzip/emnist-byclass-mapping.txt') as f:\n",
        "        for line in f:\n",
        "            mapping.append(chr(int(line.split()[1])))\n",
        "\n",
        "    x_train = np.array(x_train)\n",
        "    y_train = np.array(y_train)\n",
        "    x_test = np.array(x_test)\n",
        "    y_test = np.array(y_test)\n"
      ],
      "execution_count": null,
      "outputs": []
    },
    {
      "cell_type": "code",
      "metadata": {
        "id": "ZFUDM8nPbOfD"
      },
      "source": [
        "#Reshaping all images into 28*28 for pre-processing\n",
        "x_train = x_train.reshape(x_train.shape[0], 28, 28)\n",
        "x_test = x_test.reshape(x_test.shape[0], 28, 28)"
      ],
      "execution_count": null,
      "outputs": []
    },
    {
      "cell_type": "code",
      "metadata": {
        "id": "OyHBVwxBGRWJ",
        "colab": {
          "base_uri": "https://localhost:8080/",
          "height": 282
        },
        "outputId": "55171878-0835-4388-e0b2-d3060076cb19"
      },
      "source": [
        "#imshow(x_train[6])\n",
        "#Display a random image\n",
        "plt.imshow(x_train[0])\n",
        "plt.show"
      ],
      "execution_count": null,
      "outputs": [
        {
          "output_type": "execute_result",
          "data": {
            "text/plain": [
              "<function matplotlib.pyplot.show>"
            ]
          },
          "metadata": {
            "tags": []
          },
          "execution_count": 8
        },
        {
          "output_type": "display_data",
          "data": {
            "image/png": "[encoded data removed]",
            "text/plain": [
              "<Figure size 432x288 with 1 Axes>"
            ]
          },
          "metadata": {
            "tags": []
          }
        }
      ]
    },
    {
      "cell_type": "code",
      "metadata": {
        "id": "haaPmIPOcNwf"
      },
      "source": [
        "#Reshaping train and test data again for input into model\n",
        "x_train = x_train.reshape(x_train.shape[0], 784,1)\n",
        "x_test = x_test.reshape(x_test.shape[0], 784,1)"
      ],
      "execution_count": null,
      "outputs": []
    },
    {
      "cell_type": "code",
      "metadata": {
        "id": "0e9vsZAwUA9M",
        "colab": {
          "base_uri": "https://localhost:8080/",
          "height": 51
        },
        "outputId": "2d6a3fcf-eb0f-489f-b1ac-13189d4bdc07"
      },
      "source": [
        "x_train = x_train.astype('float32')\n",
        "x_test = x_test.astype('float32')\n",
        "x_train /= 255.0\n",
        "x_test /= 255.0\n",
        "print(x_train.shape[0], 'train samples')\n",
        "print(x_test.shape[0], 'test samples')\n"
      ],
      "execution_count": null,
      "outputs": [
        {
          "output_type": "stream",
          "text": [
            "697932 train samples\n",
            "116323 test samples\n"
          ],
          "name": "stdout"
        }
      ]
    },
    {
      "cell_type": "code",
      "metadata": {
        "id": "Pu6Gqgg0Tnfr",
        "colab": {
          "base_uri": "https://localhost:8080/",
          "height": 71
        },
        "outputId": "cdeca29f-4a71-4c0f-836f-c545d9d82312"
      },
      "source": [
        "from keras.models import Sequential\n",
        "from keras import optimizers\n",
        "from keras.layers import Convolution2D, MaxPooling2D, Dropout, Flatten, Dense, Reshape, LSTM\n",
        "from keras import backend as K\n",
        "from keras.constraints import maxnorm\n",
        "def resh(ipar):\n",
        "    opar = []\n",
        "    for image in ipar:\n",
        "        opar.append(image.reshape(-1))\n",
        "    return np.asarray(opar)\n",
        "\n",
        "from keras.utils import np_utils\n",
        "\n",
        "train_images = x_train\n",
        "test_images = x_test\n",
        "\n",
        "train_images = resh(train_images)\n",
        "test_images = resh(test_images)\n",
        "\n",
        "train_labels = np_utils.to_categorical(y_train, 62)\n",
        "test_labels = np_utils.to_categorical(y_test, 62)\n",
        "\n",
        "\n",
        "K.set_learning_phase(1)\n"
      ],
      "execution_count": null,
      "outputs": [
        {
          "output_type": "stream",
          "text": [
            "WARNING:tensorflow:From /usr/local/lib/python3.6/dist-packages/keras/backend/tensorflow_backend.py:66: The name tf.get_default_graph is deprecated. Please use tf.compat.v1.get_default_graph instead.\n",
            "\n"
          ],
          "name": "stdout"
        }
      ]
    },
    {
      "cell_type": "markdown",
      "metadata": {
        "id": "uENUm6lYUDYZ"
      },
      "source": [
        "# **Build Model**"
      ]
    },
    {
      "cell_type": "code",
      "metadata": {
        "id": "8mz0czSNGwqV",
        "colab": {
          "base_uri": "https://localhost:8080/",
          "height": 323
        },
        "outputId": "52565e8d-044d-48c7-ed3c-07d4e8daa034"
      },
      "source": [
        "model = Sequential()\n",
        "\n",
        "model.add(Dense(512, activation='relu', input_shape=(784,)))\n",
        "model.add(Dense(128, activation='relu'))\n",
        "model.add(Dense(128, activation='relu'))\n",
        "model.add(Dense(128, activation='relu'))\n",
        "model.add(Dense(62, activation='softmax'))\n",
        "\n",
        "\n",
        "opt = optimizers.Adamax(lr=0.002, beta_1=0.9, beta_2=0.999, epsilon=None, decay=0.0)\n",
        "model.compile(loss='categorical_crossentropy', optimizer=opt, metrics=['accuracy'])\n",
        "model.summary()"
      ],
      "execution_count": null,
      "outputs": [
        {
          "output_type": "stream",
          "text": [
            "Model: \"sequential_19\"\n",
            "_________________________________________________________________\n",
            "Layer (type)                 Output Shape              Param #   \n",
            "=================================================================\n",
            "dense_63 (Dense)             (None, 512)               401920    \n",
            "_________________________________________________________________\n",
            "dense_64 (Dense)             (None, 128)               65664     \n",
            "_________________________________________________________________\n",
            "dense_65 (Dense)             (None, 128)               16512     \n",
            "_________________________________________________________________\n",
            "dense_66 (Dense)             (None, 128)               16512     \n",
            "_________________________________________________________________\n",
            "dense_67 (Dense)             (None, 62)                7998      \n",
            "=================================================================\n",
            "Total params: 508,606\n",
            "Trainable params: 508,606\n",
            "Non-trainable params: 0\n",
            "_________________________________________________________________\n"
          ],
          "name": "stdout"
        }
      ]
    },
    {
      "cell_type": "code",
      "metadata": {
        "id": "ArxCb4X27Kle",
        "colab": {
          "base_uri": "https://localhost:8080/",
          "height": 34
        },
        "outputId": "dbc2ef66-60a9-4845-a2fe-ab6779f7fe95"
      },
      "source": [
        "\n",
        "test_images.shape"
      ],
      "execution_count": null,
      "outputs": [
        {
          "output_type": "execute_result",
          "data": {
            "text/plain": [
              "(116323, 784)"
            ]
          },
          "metadata": {
            "tags": []
          },
          "execution_count": 49
        }
      ]
    },
    {
      "cell_type": "code",
      "metadata": {
        "id": "mkdypMFatjxc",
        "colab": {
          "base_uri": "https://localhost:8080/",
          "height": 374
        },
        "outputId": "41e633c3-d189-44a3-8c43-81a8f46601ac"
      },
      "source": [
        "history = model.fit(train_images,train_labels,validation_data=(test_images, test_labels), batch_size=batch_size, epochs=epochs, verbose=1)"
      ],
      "execution_count": null,
      "outputs": [
        {
          "output_type": "stream",
          "text": [
            "Train on 697932 samples, validate on 116323 samples\n",
            "Epoch 1/10\n",
            "697932/697932 [==============================] - 79s 114us/step - loss: 0.6424 - acc: 0.7930 - val_loss: 0.4837 - val_acc: 0.8329\n",
            "Epoch 2/10\n",
            "697932/697932 [==============================] - 77s 110us/step - loss: 0.4577 - acc: 0.8390 - val_loss: 0.4629 - val_acc: 0.8368\n",
            "Epoch 3/10\n",
            "697932/697932 [==============================] - 77s 110us/step - loss: 0.4194 - acc: 0.8491 - val_loss: 0.4278 - val_acc: 0.8455\n",
            "Epoch 4/10\n",
            "697932/697932 [==============================] - 78s 111us/step - loss: 0.3978 - acc: 0.8548 - val_loss: 0.4120 - val_acc: 0.8509\n",
            "Epoch 5/10\n",
            "697932/697932 [==============================] - 78s 111us/step - loss: 0.3815 - acc: 0.8593 - val_loss: 0.4114 - val_acc: 0.8515\n",
            "Epoch 6/10\n",
            "697932/697932 [==============================] - 77s 111us/step - loss: 0.3694 - acc: 0.8623 - val_loss: 0.4174 - val_acc: 0.8500\n",
            "Epoch 7/10\n",
            "697932/697932 [==============================] - 78s 111us/step - loss: 0.3592 - acc: 0.8653 - val_loss: 0.4053 - val_acc: 0.8529\n",
            "Epoch 8/10\n",
            "697932/697932 [==============================] - 77s 110us/step - loss: 0.3508 - acc: 0.8675 - val_loss: 0.4167 - val_acc: 0.8527\n",
            "Epoch 9/10\n",
            "697932/697932 [==============================] - 78s 112us/step - loss: 0.3431 - acc: 0.8699 - val_loss: 0.4056 - val_acc: 0.8546\n",
            "Epoch 10/10\n",
            "697932/697932 [==============================] - 77s 110us/step - loss: 0.3365 - acc: 0.8717 - val_loss: 0.4070 - val_acc: 0.8554\n"
          ],
          "name": "stdout"
        }
      ]
    },
    {
      "cell_type": "code",
      "metadata": {
        "id": "YJGUJbYXNayu"
      },
      "source": [
        "# plot accuracy and loss\n",
        "def plotgraph(epochs, acc, val_acc):\n",
        "    # Plot training & validation accuracy values\n",
        "    plt.plot(epochs, acc, 'b')\n",
        "    plt.plot(epochs, val_acc, 'r')\n",
        "    plt.title('Model accuracy')\n",
        "    plt.ylabel('loss')\n",
        "    plt.xlabel('Epoch')\n",
        "    plt.legend(['Train', 'Val'], loc='upper left')\n",
        "    plt.show()\n"
      ],
      "execution_count": null,
      "outputs": []
    },
    {
      "cell_type": "code",
      "metadata": {
        "id": "lUOL3KpSNbms",
        "colab": {
          "base_uri": "https://localhost:8080/",
          "height": 295
        },
        "outputId": "83a396c0-4b77-426a-a967-c208f615fd89"
      },
      "source": [
        "acc = history.history['acc']\n",
        "val_acc = history.history['val_acc']\n",
        "loss = history.history['loss']\n",
        "val_loss = history.history['val_loss']\n",
        "epochs = range(1,len(acc)+1)\n",
        "\n",
        "# Accuracy curve\n",
        "plotgraph(epochs, loss, val_loss)"
      ],
      "execution_count": null,
      "outputs": [
        {
          "output_type": "display_data",
          "data": {
            "image/png": "[encoded data removed]",
            "text/plain": [
              "<Figure size 432x288 with 1 Axes>"
            ]
          },
          "metadata": {
            "tags": []
          }
        }
      ]
    },
    {
      "cell_type": "code",
      "metadata": {
        "id": "S5qEsbAQIwrQ",
        "colab": {
          "base_uri": "https://localhost:8080/",
          "height": 51
        },
        "outputId": "a528c496-3d38-43e0-8028-50b923ffbbe9"
      },
      "source": [
        "score = model.evaluate(train_images, train_labels, verbose=0)\n",
        "print('Test loss:', score[0])\n",
        "print('Test accuracy:', score[1])"
      ],
      "execution_count": null,
      "outputs": [
        {
          "output_type": "stream",
          "text": [
            "Test loss: 0.31898792091806527\n",
            "Test accuracy: 0.8773261578495304\n"
          ],
          "name": "stdout"
        }
      ]
    },
    {
      "cell_type": "code",
      "metadata": {
        "id": "cZ078Pd7h90Z"
      },
      "source": [
        "model.save('emnist_keras_dnn_Ian.h5')"
      ],
      "execution_count": null,
      "outputs": []
    }
  ]
}